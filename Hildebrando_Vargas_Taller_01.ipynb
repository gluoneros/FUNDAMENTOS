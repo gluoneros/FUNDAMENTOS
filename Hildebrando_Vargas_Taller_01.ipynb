{
  "cells": [
    {
      "cell_type": "markdown",
      "metadata": {
        "id": "view-in-github",
        "colab_type": "text"
      },
      "source": [
        "<a href=\"https://colab.research.google.com/github/gluoneros/FUNDAMENTOS/blob/master/Hildebrando_Vargas_Taller_01.ipynb\" target=\"_parent\"><img src=\"https://colab.research.google.com/assets/colab-badge.svg\" alt=\"Open In Colab\"/></a>"
      ]
    },
    {
      "cell_type": "markdown",
      "metadata": {
        "id": "x5gowVgPFjSB"
      },
      "source": [
        "<a href=\"https://colab.research.google.com/github/darioblandon/Curso1/blob/master/S1/Taller_01.ipynb\" target=\"_parent\"><img src=\"https://colab.research.google.com/assets/colab-badge.svg\" alt=\"Open In Colab\"/></a>\n",
        "\n",
        "<p><img alt=\"Colaboratory logo\" height=\"140px\" src=\"https://upload.wikimedia.org/wikipedia/commons/archive/f/fb/20161010213812%21Escudo-UdeA.svg\" align=\"left\" hspace=\"10px\" vspace=\"0px\"></p>\n",
        "\n",
        "<h1> Diplomado de Análisis de datos y Machine Learning en Python</h1>\n",
        "\n",
        "\n",
        "El presente diplomado hace parte del centro de Big Data de la facultad de ciencias exactas y naturales (FCEN) de la Universidad de Antioquia.\n"
      ]
    },
    {
      "cell_type": "markdown",
      "metadata": {
        "id": "07wPTbpxFjSC"
      },
      "source": [
        "## Taller: Sesion 1"
      ]
    },
    {
      "cell_type": "markdown",
      "metadata": {
        "id": "vx136hOXFjSD"
      },
      "source": [
        "- Repaso breve del Python\n",
        "- Estructura básica de un programa en Python.\n",
        "- Operaciones aritméticas con reales y complejos."
      ]
    },
    {
      "cell_type": "markdown",
      "metadata": {
        "id": "GPEwxOmFFjSD"
      },
      "source": [
        "## Problemas\n",
        "**1**. Elaborar un algoritmo e implementar en python, **el factorial** y **el doble factorial** de un número entero `n` ingresado.\n",
        "     ### Ejemplo de Ejecución\n",
        "    ```python\n",
        "\n",
        "    >>> doblefactorial(3)\n",
        "        3\n",
        "\n",
        "    >>> doblefactorial(1987123)\n",
        "        =???\n",
        "```\n"
      ]
    },
    {
      "cell_type": "code",
      "source": [
        "def factorial(n):\n",
        "  if n==0 or n==1:\n",
        "    resultado =1\n",
        "  elif n>1:\n",
        "    resultado=n*factorial(n-1)\n",
        "  return resultado\n"
      ],
      "metadata": {
        "id": "oskJv9ZFTeyb"
      },
      "execution_count": 1,
      "outputs": []
    },
    {
      "cell_type": "code",
      "source": [
        "factorial(5)"
      ],
      "metadata": {
        "colab": {
          "base_uri": "https://localhost:8080/"
        },
        "id": "WN7auIvjaRLO",
        "outputId": "481abca2-76b3-4a2a-f4d8-10fe3dd477f3"
      },
      "execution_count": 2,
      "outputs": [
        {
          "output_type": "execute_result",
          "data": {
            "text/plain": [
              "120"
            ]
          },
          "metadata": {},
          "execution_count": 2
        }
      ]
    },
    {
      "cell_type": "markdown",
      "metadata": {
        "id": "czcr1GhLFjSD"
      },
      "source": [
        "**2**. Diseñar un programa que lea dos numero `a` y `b` y diga que tipo de numero son, de a cuerdo a la siguiente clasificación:\n",
        "\n",
        "**A** [Números defectivos](https://es.wikipedia.org/wiki/Número_defectivo) : la suma de los divisores propios es menor que el número.\n",
        "\n",
        "**B** [Números abundantes](https://es.wikipedia.org/wiki/Número_abundante): la suma de los divisores es mayor que el número.\n",
        "\n",
        "**C** [Números amigos](https://es.wikipedia.org/wiki/N%C3%BAmeros_amigos) `a` y `b` tales que a es la suma de los divisores propios de `b` y viceversa.\n",
        "\n",
        "**D** [Números perfectos](https://es.wikipedia.org/wiki/N%C3%BAmero_perfecto) la suma de todos sus divisores propios, excepto el mismo numero, es igual al número.\n",
        "\n",
        "**E** [Números primos](https://es.wikipedia.org/wiki/N%C3%BAmero_primo) el número es divisible unicamente por sí mismo y por 1.\n",
        " "
      ]
    },
    {
      "cell_type": "markdown",
      "metadata": {
        "id": "5OQD0W7gFjSE"
      },
      "source": [
        " ### Ejemplo de Ejecución\n",
        "``` python\n",
        "\n",
        "    >>> clase_numeroA(a = 220, b =  284)\n",
        "        a = 220 y b = 284 son números amigos\n",
        "\n",
        "    >>> clase_numeroB(a = 24, b = 12 )\n",
        "        a = 24 es un numero abudante y b = 12 es un número defectivo. \n",
        "```\n"
      ]
    },
    {
      "cell_type": "markdown",
      "metadata": {
        "id": "DAxKJLvFFjSE"
      },
      "source": [
        "**3**. Determine si un número `n` entero ingresado por el usuario es un [palíndromo](https://en.wikipedia.org/wiki/Palindromic_number), (Retorne `True` en caso afirmativo y `False` en caso contrario) \n",
        "\n",
        "```python\n",
        "\n",
        "\n",
        "    >>> palindromo(3333333)\n",
        "        True\n",
        "\n",
        "    >>> palindromo(232)\n",
        "        True\n",
        "        \n",
        "    >>> palindromo(1111349111111)\n",
        "        False\n",
        "```\n",
        "\n",
        "\n"
      ]
    },
    {
      "cell_type": "markdown",
      "metadata": {
        "id": "outzfxPrFjSE"
      },
      "source": [
        "\n",
        "**4**. Elabore un método para calcular los `x` numeros primos que existen en un intervalos dado por el usuario.\n",
        "\n",
        "\n",
        "### Ejemplo de Ejecución\n",
        "```python\n",
        "\n",
        ">>> primos(5,15):\n",
        "[5,7,11,13]\n",
        "\n",
        ">>>primos(1,20):\n",
        "[1,2,3,5,7,11,13,17,19]\n",
        "\n",
        "```\n"
      ]
    },
    {
      "cell_type": "markdown",
      "metadata": {
        "id": "n6njLH8sFjSE"
      },
      "source": [
        "\n",
        "**5**. Entrar un arreglo de números y ordenarlos de forma ascendente, Ver algoritmo\n",
        "[Quicksort](https://es.wikipedia.org/wiki/Quicksort). \n",
        "\n",
        "\n",
        "```python\n",
        "\n",
        "\n",
        "<<< v = [22, 32, 42, 12, 22, 31, 41, 11, 12, 232, 24, 12, 22]\n",
        "<<< def quicksort(v):\n",
        "\n",
        "<<<     return v\n",
        "<<< w = print(quicksort(v))\n",
        "<<< [11, 12, 12, 12, 22, 22, 22, 24, 31, 32, 41, 42, 232]\n",
        "\n",
        "```\n",
        "\n",
        "Sólo para comprobar tu código,  puedes hacer uso del comando sort de python. \n",
        "```python\n",
        "<<< b = [22, 32, 42, 12, 22, 31, 41, 11, 12, 232, 24, 12, 22]\n",
        "\n",
        "<<< print(b.sort())\n",
        "\n",
        "<<< [11, 12, 12, 12, 22, 22, 22, 24, 31, 32, 41, 42, 232]\n",
        "```"
      ]
    },
    {
      "cell_type": "markdown",
      "metadata": {
        "id": "wHpp-ErBFjSF"
      },
      "source": [
        "## REFERENCIAS.\n",
        "\n",
        "[2] [Fundamenteos de programación](https://sites.google.com/site/funpropoli/ejercicios-practicos)\n",
        "\n",
        "[3] Scripts de un curso de python. [Fernando Perez](https://github.com/fperez)\n"
      ]
    },
    {
      "cell_type": "code",
      "execution_count": null,
      "metadata": {
        "id": "_Iuz641_FjSF"
      },
      "outputs": [],
      "source": []
    }
  ],
  "metadata": {
    "kernelspec": {
      "display_name": "Python 3 (ipykernel)",
      "language": "python",
      "name": "python3"
    },
    "language_info": {
      "codemirror_mode": {
        "name": "ipython",
        "version": 3
      },
      "file_extension": ".py",
      "mimetype": "text/x-python",
      "name": "python",
      "nbconvert_exporter": "python",
      "pygments_lexer": "ipython3",
      "version": "3.10.4"
    },
    "colab": {
      "provenance": [],
      "toc_visible": true,
      "include_colab_link": true
    }
  },
  "nbformat": 4,
  "nbformat_minor": 0
}